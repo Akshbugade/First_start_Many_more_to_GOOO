{
 "cells": [
  {
   "cell_type": "markdown",
   "metadata": {},
   "source": [
    "## Start of New Journey "
   ]
  },
  {
   "cell_type": "markdown",
   "metadata": {},
   "source": [
    "### Addition,Multiplication,Subtraction,Division of 2 Number"
   ]
  },
  {
   "cell_type": "code",
   "execution_count": 1,
   "metadata": {},
   "outputs": [
    {
     "name": "stdout",
     "output_type": "stream",
     "text": [
      "Enter 1st Number=12\n",
      "Enter 2ndNumber=3\n",
      "Result\n",
      "\n",
      "Addition =15\n",
      "Subtraction =9\n",
      "Multipication =36\n",
      "Division=4.0\n"
     ]
    }
   ],
   "source": [
    "def add(a,b):\n",
    "    print(a+b)\n",
    "def sub(a,b):\n",
    "    print(a-b)\n",
    "def mul(a,b):\n",
    "    print(a*b)\n",
    "def div(a,b):\n",
    "    print(a/b)\n",
    "x=int(input('Enter 1st Number='))\n",
    "y=int(input(\"Enter 2ndNumber=\"))\n",
    "\n",
    "print(\"Result\")\n",
    "print()\n",
    "print(\"Addition =\",end=\"\")\n",
    "add(x,y)\n",
    "if(x>=y):\n",
    "    print(\"Subtraction =\", end=\"\")\n",
    "    sub(x,y)\n",
    "else:\n",
    "    print(\"Subtraction = 1st Number is Smaller Than 2nd Number  \")\n",
    "print(\"Multipication =\",end=\"\")\n",
    "mul(x,y)\n",
    "\n",
    "print(\"Division=\",end=\"\")\n",
    "div(x,y)"
   ]
  },
  {
   "cell_type": "code",
   "execution_count": null,
   "metadata": {},
   "outputs": [],
   "source": []
  }
 ],
 "metadata": {
  "kernelspec": {
   "display_name": "Python 3",
   "language": "python",
   "name": "python3"
  },
  "language_info": {
   "codemirror_mode": {
    "name": "ipython",
    "version": 3
   },
   "file_extension": ".py",
   "mimetype": "text/x-python",
   "name": "python",
   "nbconvert_exporter": "python",
   "pygments_lexer": "ipython3",
   "version": "3.7.6"
  }
 },
 "nbformat": 4,
 "nbformat_minor": 4
}
